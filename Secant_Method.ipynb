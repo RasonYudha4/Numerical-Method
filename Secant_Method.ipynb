{
  "nbformat": 4,
  "nbformat_minor": 0,
  "metadata": {
    "colab": {
      "provenance": [],
      "authorship_tag": "ABX9TyPfUY4X5nSMX4k1AJEafzUl",
      "include_colab_link": true
    },
    "kernelspec": {
      "name": "python3",
      "display_name": "Python 3"
    },
    "language_info": {
      "name": "python"
    }
  },
  "cells": [
    {
      "cell_type": "markdown",
      "metadata": {
        "id": "view-in-github",
        "colab_type": "text"
      },
      "source": [
        "<a href=\"https://colab.research.google.com/github/RasonYudha4/Numerical-Method/blob/main/Secant_Method.ipynb\" target=\"_parent\"><img src=\"https://colab.research.google.com/assets/colab-badge.svg\" alt=\"Open In Colab\"/></a>"
      ]
    },
    {
      "cell_type": "code",
      "execution_count": 8,
      "metadata": {
        "colab": {
          "base_uri": "https://localhost:8080/"
        },
        "id": "9Ds3ewynE6Zy",
        "outputId": "3c9c1359-68a6-4575-e4c4-6ffaea02d810"
      },
      "outputs": [
        {
          "output_type": "stream",
          "name": "stdout",
          "text": [
            "Can not find a root in  the given interval\n"
          ]
        }
      ],
      "source": [
        "# Python3 Program to find root of an\n",
        "# equations using secant method\n",
        "\n",
        "# function takes value of x\n",
        "# and returns f(x)\n",
        "def f(x):\n",
        "\n",
        "\t# we are taking equation\n",
        "\t# as x^3+x-1\n",
        "\tf = pow(x,3) - pow(5,x) + 1\n",
        "\treturn f;\n",
        "\n",
        "def secant(x1, x2, E):\n",
        "\tn = 0; xm = 0; x0 = 0; c = 0;\n",
        "\tif (f(x1) * f(x2) < 0):\n",
        "\t\twhile True:\n",
        "\n",
        "\t\t\t# calculate the intermediate value\n",
        "\t\t\tx0 = ((x1 * f(x2) - x2 * f(x1)) /\n",
        "\t\t\t\t\t\t\t(f(x2) - f(x1)));\n",
        "\n",
        "\t\t\t# check if x0 is root of\n",
        "\t\t\t# equation or not\n",
        "\t\t\tc = f(x1) * f(x0);\n",
        "\n",
        "\t\t\t# update the value of interval\n",
        "\t\t\tx1 = x2;\n",
        "\t\t\tx2 = x0;\n",
        "\n",
        "\t\t\t# update number of iteration\n",
        "\t\t\tn += 1;\n",
        "\n",
        "\t\t\t# if x0 is the root of equation\n",
        "\t\t\t# then break the loop\n",
        "\t\t\tif (c == 0):\n",
        "\t\t\t\tbreak;\n",
        "\t\t\txm = ((x1 * f(x2) - x2 * f(x1)) /\n",
        "\t\t\t\t\t\t\t(f(x2) - f(x1)));\n",
        "\n",
        "\t\t\tif(abs(xm - x0) < E):\n",
        "\t\t\t\tbreak;\n",
        "\n",
        "\t\tprint(\"Root of the given equation =\",\n",
        "\t\t\t\t\t\t\tround(x0, 6));\n",
        "\t\tprint(\"No. of iterations = \", n);\n",
        "\n",
        "\telse:\n",
        "\t\tprint(\"Can not find a root in \",\n",
        "\t\t\t\t\"the given interval\");\n",
        "\n",
        "# Driver code\n",
        "\n",
        "# initializing the values\n",
        "x1 = 0.5;\n",
        "x2 = 1;\n",
        "E = 0.0001;\n",
        "secant(x1, x2, E);\n",
        "\n",
        "# This code is contributed by mits\n"
      ]
    },
    {
      "cell_type": "code",
      "source": [
        "def secant_method(f, x0, x1, tol=1e-5, max_iter=100):\n",
        "    for i in range(max_iter):\n",
        "        x2 = x1 - f(x1) * (x1 - x0) / (f(x1) - f(x0))\n",
        "        if abs(x2 - x1) < tol:\n",
        "            return x2\n",
        "        x0, x1 = x1, x2\n",
        "    raise ValueError(\"Failed to converge after {} iterations\".format(max_iter))"
      ],
      "metadata": {
        "id": "dx_VDNlKHrwj"
      },
      "execution_count": 13,
      "outputs": []
    },
    {
      "cell_type": "code",
      "source": [
        "\n",
        "def f(x):\n",
        "  return x**5 + x**3 + 3\n",
        "\n",
        "root = secant_method(f, -1, -1.1)\n",
        "print(root)"
      ],
      "metadata": {
        "colab": {
          "base_uri": "https://localhost:8080/"
        },
        "id": "ALdjZCxAK9vZ",
        "outputId": "4a441d38-a3af-45c6-f1fd-848bc327f19e"
      },
      "execution_count": 14,
      "outputs": [
        {
          "output_type": "stream",
          "name": "stdout",
          "text": [
            "-1.1052985358723977\n"
          ]
        }
      ]
    },
    {
      "cell_type": "code",
      "source": [],
      "metadata": {
        "id": "LijUq4WIOyKD"
      },
      "execution_count": null,
      "outputs": []
    }
  ]
}