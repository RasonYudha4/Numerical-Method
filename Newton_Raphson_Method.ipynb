{
  "nbformat": 4,
  "nbformat_minor": 0,
  "metadata": {
    "colab": {
      "provenance": [],
      "authorship_tag": "ABX9TyPNIM0kaAla6TngEopr7Wlf",
      "include_colab_link": true
    },
    "kernelspec": {
      "name": "python3",
      "display_name": "Python 3"
    },
    "language_info": {
      "name": "python"
    }
  },
  "cells": [
    {
      "cell_type": "markdown",
      "metadata": {
        "id": "view-in-github",
        "colab_type": "text"
      },
      "source": [
        "<a href=\"https://colab.research.google.com/github/RasonYudha4/Numerical-Method/blob/main/Newton_Raphson_Method.ipynb\" target=\"_parent\"><img src=\"https://colab.research.google.com/assets/colab-badge.svg\" alt=\"Open In Colab\"/></a>"
      ]
    },
    {
      "cell_type": "code",
      "execution_count": 1,
      "metadata": {
        "id": "0TA54Sm249k-"
      },
      "outputs": [],
      "source": [
        "import math"
      ]
    },
    {
      "cell_type": "code",
      "source": [
        "# Python3 code for implementation of Newton\n",
        "# Raphson Method for solving equations\n",
        "\n",
        "# An example function whose solution\n",
        "# is determined using Bisection Method.\n",
        "# The function is x^3 - x^2 + 2\n",
        "def func( x ):\n",
        "    return x**3 - 2*x**2 + x - 3\n",
        "\n",
        "# Derivative of the above function\n",
        "# which is 3*x^x - 2*x\n",
        "def derivFunc( x ):\n",
        "    return 3*x**2 - 4*x + 1\n",
        "\n",
        "# Function to find the root\n",
        "def newtonRaphson( x ):\n",
        "    h = func(x) / derivFunc(x)\n",
        "    for i in range(4):\n",
        "        h = func(x)/derivFunc(x)\n",
        "\n",
        "        # x(i+1) = x(i) - f(x) / f'(x)\n",
        "        x = x - h\n",
        "\n",
        "        print(\"The \" + str(i+1) + \" iteration is : \", x)\n",
        "\n",
        "    print(\"The value of the root is : \",\n",
        "                             \"%.4f\"% x)\n",
        "\n",
        "# Driver program to test above\n",
        "x0 = 4 # Initial values assumed\n",
        "newtonRaphson(x0)"
      ],
      "metadata": {
        "colab": {
          "base_uri": "https://localhost:8080/"
        },
        "id": "GFizcecD5Iwn",
        "outputId": "a9172973-483a-41d6-b5ff-796c2f869844"
      },
      "execution_count": 23,
      "outputs": [
        {
          "output_type": "stream",
          "name": "stdout",
          "text": [
            "The 1 iteration is :  3.0\n",
            "The 2 iteration is :  2.4375\n",
            "The 3 iteration is :  2.2130327163151096\n",
            "The 4 iteration is :  2.175554938721488\n",
            "The value of the root is :  2.1756\n"
          ]
        }
      ]
    },
    {
      "cell_type": "code",
      "source": [],
      "metadata": {
        "id": "faFluiTW7MWW"
      },
      "execution_count": 15,
      "outputs": []
    }
  ]
}