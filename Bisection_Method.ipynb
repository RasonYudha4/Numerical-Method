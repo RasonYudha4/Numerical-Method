{
  "nbformat": 4,
  "nbformat_minor": 0,
  "metadata": {
    "colab": {
      "provenance": [],
      "authorship_tag": "ABX9TyOvRnGWyV1G/ulrIRnSZzWo",
      "include_colab_link": true
    },
    "kernelspec": {
      "name": "python3",
      "display_name": "Python 3"
    },
    "language_info": {
      "name": "python"
    }
  },
  "cells": [
    {
      "cell_type": "markdown",
      "metadata": {
        "id": "view-in-github",
        "colab_type": "text"
      },
      "source": [
        "<a href=\"https://colab.research.google.com/github/RasonYudha4/Numerical-Method/blob/main/Bisection_Method.ipynb\" target=\"_parent\"><img src=\"https://colab.research.google.com/assets/colab-badge.svg\" alt=\"Open In Colab\"/></a>"
      ]
    },
    {
      "cell_type": "code",
      "execution_count": 14,
      "metadata": {
        "id": "3frmIVo0-zM4"
      },
      "outputs": [],
      "source": [
        "def samesign(a, b):\n",
        "        return a * b > 0"
      ]
    },
    {
      "cell_type": "code",
      "source": [
        "def bisect(func, low, high):\n",
        "    'Find root of continuous function where f(low) and f(high) have opposite signs'\n",
        "\n",
        "    assert not samesign(func(low), func(high))\n",
        "\n",
        "    for i in range(54):\n",
        "        midpoint = (low + high) / 2.0\n",
        "        if samesign(func(low), func(midpoint)):\n",
        "            low = midpoint\n",
        "        else:\n",
        "            high = midpoint\n",
        "\n",
        "    return midpoint"
      ],
      "metadata": {
        "id": "HkHRDmifAGX_"
      },
      "execution_count": 15,
      "outputs": []
    },
    {
      "cell_type": "code",
      "source": [
        "def f(x):\n",
        "        return -26 + 85*x - 91*x**2 +44*x**3 -8*x**4 + x**5"
      ],
      "metadata": {
        "id": "sjgGL5VwAOIc"
      },
      "execution_count": 16,
      "outputs": []
    },
    {
      "cell_type": "code",
      "source": [
        "x = bisect(f, -200, 300)"
      ],
      "metadata": {
        "id": "NfwA5fvRASbz"
      },
      "execution_count": 17,
      "outputs": []
    },
    {
      "cell_type": "code",
      "source": [
        "print(x, f(x))"
      ],
      "metadata": {
        "colab": {
          "base_uri": "https://localhost:8080/"
        },
        "id": "_Ka6zkIeAUuZ",
        "outputId": "2ba67687-266f-4b6d-e2e2-b92cf227a245"
      },
      "execution_count": 18,
      "outputs": [
        {
          "output_type": "stream",
          "name": "stdout",
          "text": [
            "0.5570255162865412 2.986291769424554e-13\n"
          ]
        }
      ]
    },
    {
      "cell_type": "code",
      "source": [
        "def func(x):\n",
        "    return -26 + 85*x - 91*x**2 +44*x**3 -8*x**4 + x**5"
      ],
      "metadata": {
        "id": "TdnhF3ueAWla"
      },
      "execution_count": 9,
      "outputs": []
    },
    {
      "cell_type": "code",
      "source": [
        "def bisection(a,b):\n",
        "\n",
        "    if (func(a) * func(b) >= 0):\n",
        "        print(\"You have not assumed right a and b\\n\")\n",
        "        return\n",
        "\n",
        "    c = a\n",
        "    while ((b-a) >= 0.01):\n",
        "\n",
        "        # Find middle point\n",
        "        c = (a+b)/2\n",
        "\n",
        "        # Check if middle point is root\n",
        "        if (func(c) == 0.0):\n",
        "            break\n",
        "\n",
        "        # Decide the side to repeat the steps\n",
        "        if (func(c)*func(a) < 0):\n",
        "            b = c\n",
        "        else:\n",
        "            a = c\n",
        "\n",
        "    print(\"The value of root is : \",\"%.4f\"%c)"
      ],
      "metadata": {
        "id": "StZ5CFjJBt9J"
      },
      "execution_count": 7,
      "outputs": []
    },
    {
      "cell_type": "code",
      "source": [
        "a = -200\n",
        "b = 300\n",
        "bisection(a, b)"
      ],
      "metadata": {
        "colab": {
          "base_uri": "https://localhost:8080/"
        },
        "id": "iGkg_05WBwU8",
        "outputId": "7ccd94a4-b4b9-4b91-896f-80578012abb6"
      },
      "execution_count": 12,
      "outputs": [
        {
          "output_type": "stream",
          "name": "stdout",
          "text": [
            "The value of root is :  0.5539\n"
          ]
        }
      ]
    }
  ]
}